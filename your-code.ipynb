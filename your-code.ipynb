{
 "cells": [
  {
   "cell_type": "markdown",
   "metadata": {},
   "source": [
    "# Lab: Regression Analysis"
   ]
  },
  {
   "cell_type": "markdown",
   "metadata": {},
   "source": [
    "### Before you start:\n",
    "\n",
    "* Read the README.md file\n",
    "* Comment as much as you can and use the resources (README.md file) \n",
    "\n",
    "Happy learning!"
   ]
  },
  {
   "cell_type": "markdown",
   "metadata": {},
   "source": [
    "## Challenge 1\n",
    "I work at a coding bootcamp, and I have developed a theory that the younger my students are, the more often they are late to class. In order to test my hypothesis, I have collected some data in the following table:\n",
    "\n",
    "| StudentID | Age | Tardies |\n",
    "|--------|-----|------------|\n",
    "| 1      | 17  | 10         |\n",
    "| 2      | 51  | 1          |\n",
    "| 3      | 27  | 5          |\n",
    "| 4      | 21  | 9         |\n",
    "| 5      | 36  |  4         |\n",
    "| 6      | 48  |  2         |\n",
    "| 7      | 19  |  9         |\n",
    "| 8      | 26  | 6          |\n",
    "| 9      | 54  |  0         |\n",
    "| 10     | 30  |  3         |"
   ]
  },
  {
   "cell_type": "markdown",
   "metadata": {},
   "source": [
    "Use this command to create a dataframe with the data provided in the table. \n",
    "~~~~\n",
    "student_data = pd.DataFrame({'X': [x_values], 'Y': [y_values]})\n",
    "~~~~"
   ]
  },
  {
   "cell_type": "code",
   "execution_count": 128,
   "metadata": {},
   "outputs": [],
   "source": [
    "# Importamos las bibliotecas que utilizaremos en el resto del lab\n",
    "import pandas as pd\n",
    "import seaborn as sns\n",
    "from scipy import stats"
   ]
  },
  {
   "cell_type": "code",
   "execution_count": 129,
   "metadata": {},
   "outputs": [
    {
     "data": {
      "text/html": [
       "<div>\n",
       "<style scoped>\n",
       "    .dataframe tbody tr th:only-of-type {\n",
       "        vertical-align: middle;\n",
       "    }\n",
       "\n",
       "    .dataframe tbody tr th {\n",
       "        vertical-align: top;\n",
       "    }\n",
       "\n",
       "    .dataframe thead th {\n",
       "        text-align: right;\n",
       "    }\n",
       "</style>\n",
       "<table border=\"1\" class=\"dataframe\">\n",
       "  <thead>\n",
       "    <tr style=\"text-align: right;\">\n",
       "      <th></th>\n",
       "      <th>edad</th>\n",
       "      <th>retrasos</th>\n",
       "    </tr>\n",
       "  </thead>\n",
       "  <tbody>\n",
       "    <tr>\n",
       "      <th>0</th>\n",
       "      <td>17</td>\n",
       "      <td>10</td>\n",
       "    </tr>\n",
       "    <tr>\n",
       "      <th>1</th>\n",
       "      <td>51</td>\n",
       "      <td>1</td>\n",
       "    </tr>\n",
       "    <tr>\n",
       "      <th>2</th>\n",
       "      <td>27</td>\n",
       "      <td>5</td>\n",
       "    </tr>\n",
       "    <tr>\n",
       "      <th>3</th>\n",
       "      <td>21</td>\n",
       "      <td>9</td>\n",
       "    </tr>\n",
       "  </tbody>\n",
       "</table>\n",
       "</div>"
      ],
      "text/plain": [
       "   edad  retrasos\n",
       "0    17        10\n",
       "1    51         1\n",
       "2    27         5\n",
       "3    21         9"
      ]
     },
     "execution_count": 129,
     "metadata": {},
     "output_type": "execute_result"
    }
   ],
   "source": [
    "# Creamos un diccionario para, después, transformarlo fácilmente a un DataFrame\n",
    "x_values = [17, 51, 27, 21, 36, 48, 19, 26, 54, 30]\n",
    "y_values = [10, 1, 5, 9, 4, 2, 9, 6, 0, 3]\n",
    "diccionario_values = {'X': x_values, 'Y': y_values}\n",
    "\n",
    "# Transformamos el diccionario a un DataFrame\n",
    "student_data = pd.DataFrame(diccionario_values)\n",
    "\n",
    "# Cambiamos el nombre de las columnas\n",
    "student_data.columns = ['edad', 'retrasos']\n",
    "student_data.head(4)"
   ]
  },
  {
   "cell_type": "markdown",
   "metadata": {},
   "source": [
    "Draw a dispersion diagram (scatter plot) for the data."
   ]
  },
  {
   "cell_type": "code",
   "execution_count": 130,
   "metadata": {},
   "outputs": [
    {
     "data": {
      "image/png": "[encoded data removed]",
      "text/plain": [
       "<Figure size 432x288 with 1 Axes>"
      ]
     },
     "metadata": {},
     "output_type": "display_data"
    }
   ],
   "source": [
    "# Cambiemos primero el estilo de las gráficas para que se vean más cool\n",
    "sns.set_style('darkgrid')\n",
    "\n",
    "# Ahora sí grafiquemos la gráfica de dispersión\n",
    "ax = sns.scatterplot(data=student_data, x=\"edad\", y=\"retrasos\")\n",
    "\n",
    "# Agreguémosle un título a nuestra gráfica\n",
    "ax.set_title('Relación entre edad y retrasos', fontsize=13);"
   ]
  },
  {
   "cell_type": "markdown",
   "metadata": {},
   "source": [
    "Do you see a trend? Can you make any hypotheses about the relationship between age and number of tardies?"
   ]
  },
  {
   "cell_type": "markdown",
   "metadata": {},
   "source": [
    "**Respuesta**\n",
    "\n",
    "- A simple vista, parece que hay una correlación negativa entre los retrasos y la edad, es decir, entre más grandes en edad son las personas, menos retrasos tienen. Por el contrario, entre más jóvenes, más tarde llegan a clase. "
   ]
  },
  {
   "cell_type": "markdown",
   "metadata": {},
   "source": [
    "Calculate the covariance and correlation of the variables in your plot. What is the difference between these two measures? Compare their values. What do they tell you in this case? Add your responses as comments after your code."
   ]
  },
  {
   "cell_type": "markdown",
   "metadata": {},
   "source": [
    "**Respuesta**\n",
    "\n",
    "La covarianza nos indica la relación linear que hay entre dos variables. En otras palabras, la covarianza nos indicaría si\n",
    "- ambas aumentan o disminuyen de manera conjunta (covarianza positiva),\n",
    "- una variable disminuye cuando la otra aumenta (covarianza negativa), o\n",
    "- no hay relación entre las variables (covarianza cercana a cero).\n",
    "\n",
    "La correlación es muy similar a la covarianza solo que, además de indicarnos la relación, nos indica _el grado de relación_ entre las variables. Una correlación nos diría, por ejemplo, no solo que ambas variables aumentan o disminuyen de manera conjunta, sino también _qué tanto_ lo hace una con respecto de la otra. En términos numéricos, una correlación puede ir de -1 a 1:\n",
    "- -1: indica que siempre que una variable aumenta, la otra disminuye.\n",
    "- 0: indica que no hay relación linear evidente entre las variables.\n",
    "- 1: indica que ambas variables aumentan o disminuyen de manera conjunta. "
   ]
  },
  {
   "cell_type": "code",
   "execution_count": 131,
   "metadata": {},
   "outputs": [
    {
     "name": "stdout",
     "output_type": "stream",
     "text": [
      "Covarianza:  -45.57\n",
      "Correlación:  -0.94\n"
     ]
    }
   ],
   "source": [
    "# Calculemos la covarianza redondeada a dos decimales\n",
    "covarianza = student_data['edad'].cov(student_data['retrasos']).round(2)\n",
    "print('Covarianza: ', covarianza)\n",
    "\n",
    "# Calculemos la correlación redondeada a dos decimales\n",
    "correlacion = student_data['edad'].corr(student_data['retrasos']).round(2)\n",
    "print('Correlación: ', correlacion)"
   ]
  },
  {
   "cell_type": "markdown",
   "metadata": {},
   "source": [
    "    - La covarianza negativa nos indica que hay una relación negativa entra las variables.\n",
    "    - La correlación nos indica que hay una relación negativa y que, además, la relación es muy fuerte (casi es de -1). Es decir, las variables se mueven casi en sincronía y de manera inversa."
   ]
  },
  {
   "cell_type": "markdown",
   "metadata": {},
   "source": [
    "Build a regression model for this data. What will be your outcome variable? What type of regression are you using? Add your responses as comments after your code."
   ]
  },
  {
   "cell_type": "markdown",
   "metadata": {},
   "source": [
    "**Respuesta** \n",
    "- Utilicemos la regresión más sencilla: la regresión lineal. \n",
    "- En este escenario, la variable dependiente —la que queremos predecir— serán los retrasos. (Típicamente, la variable _x_ es la independiente y la variable _y_ es la dependiente).  "
   ]
  },
  {
   "cell_type": "code",
   "execution_count": 133,
   "metadata": {},
   "outputs": [
    {
     "name": "stdout",
     "output_type": "stream",
     "text": [
      "Slope:  -0.243\n",
      "Correlacion:  -0.939\n",
      "Desviación estándar:  0.031\n"
     ]
    }
   ],
   "source": [
    "# Construyamos una regresión lineal\n",
    "regresion = stats.linregress(x=student_data.edad, y=student_data.retrasos)\n",
    "\n",
    "# Ahora podemos extraer varios atributos de la regresión\n",
    "print('Slope: ', regresion.slope.round(3))\n",
    "print('Correlacion: ', regresion.rvalue.round(3))\n",
    "print('Desviación estándar: ', regresion.stderr.round(3))"
   ]
  },
  {
   "cell_type": "markdown",
   "metadata": {},
   "source": [
    "Plot your regression model on your scatter plot."
   ]
  },
  {
   "cell_type": "code",
   "execution_count": 135,
   "metadata": {},
   "outputs": [
    {
     "data": {
      "image/png": "[encoded data removed]",
      "text/plain": [
       "<Figure size 432x288 with 1 Axes>"
      ]
     },
     "metadata": {},
     "output_type": "display_data"
    }
   ],
   "source": [
    "# Elaboremos una gráfica de dispersión que incluya la línea de regresión.\n",
    "ax = sns.regplot(data=student_data, x='edad', y='retrasos', ci=95)\n",
    "ax.set_title('Relación lineal entre retrasos y edad', fontsize=13);"
   ]
  },
  {
   "cell_type": "markdown",
   "metadata": {},
   "source": [
    "Interpret the results of your model. What can conclusions can you draw from your model and how confident in these conclusions are you? Can we say that age is a good predictor of tardiness? Add your responses as comments after your code."
   ]
  },
  {
   "cell_type": "markdown",
   "metadata": {},
   "source": [
    "**Respuesta:**\n",
    "\n",
    "- r-cuadrada\n",
    "- "
   ]
  },
  {
   "cell_type": "markdown",
   "metadata": {},
   "source": [
    "## Challenge 2\n",
    "For the second part of this lab, we will use the vehicles.csv data set. You can find a copy of the dataset in the git hub folder. This dataset includes variables related to vehicle characteristics, including the model, make, and energy efficiency standards, as well as each car's CO2 emissions. As discussed in class the goal of this exercise is to predict vehicles' CO2 emissions based on several independent variables. "
   ]
  },
  {
   "cell_type": "code",
   "execution_count": 90,
   "metadata": {},
   "outputs": [],
   "source": [
    "# Import any libraries you may need & the data\n",
    "vehicles = pd.read_csv('vehicles.csv')"
   ]
  },
  {
   "cell_type": "markdown",
   "metadata": {},
   "source": [
    "Let's use the following variables for our analysis: Year, Cylinders, Fuel Barrels/Year, Combined MPG, and Fuel Cost/Year. We will use 'CO2 Emission Grams/Mile' as our outcome variable. \n",
    "\n",
    "Calculate the correlations between each of these variables and the outcome. Which variable do you think will be the most important in determining CO2 emissions? Which provides the least amount of helpful information for determining CO2 emissions? Add your responses as comments after your code."
   ]
  },
  {
   "cell_type": "markdown",
   "metadata": {},
   "source": [
    "**Respuesta**\n",
    "- Mi sospecha es que la variable que más predice emisiones de CO2 será Costo de Combustible por Año."
   ]
  },
  {
   "cell_type": "code",
   "execution_count": 91,
   "metadata": {},
   "outputs": [
    {
     "data": {
      "text/plain": [
       "Index(['Make', 'Model', 'Year', 'Engine Displacement', 'Cylinders',\n",
       "       'Transmission', 'Drivetrain', 'Vehicle Class', 'Fuel Type',\n",
       "       'Fuel Barrels/Year', 'City MPG', 'Highway MPG', 'Combined MPG',\n",
       "       'CO2 Emission Grams/Mile', 'Fuel Cost/Year'],\n",
       "      dtype='object')"
      ]
     },
     "execution_count": 91,
     "metadata": {},
     "output_type": "execute_result"
    }
   ],
   "source": [
    "# Reduzcamos nuestro dataset solo a las variables relevantes. \n",
    "vehicles.columns"
   ]
  },
  {
   "cell_type": "code",
   "execution_count": 92,
   "metadata": {},
   "outputs": [],
   "source": [
    "vehicles = vehicles[['Year', 'Cylinders', 'Fuel Barrels/Year', 'Combined MPG', 'Fuel Cost/Year', 'CO2 Emission Grams/Mile']]"
   ]
  },
  {
   "cell_type": "code",
   "execution_count": 116,
   "metadata": {},
   "outputs": [
    {
     "data": {
      "text/plain": [
       "Fuel Barrels/Year    0.986189\n",
       "Fuel Cost/Year       0.930865\n",
       "Cylinders            0.752393\n",
       "Year                -0.222300\n",
       "Combined MPG        -0.926229\n",
       "dtype: float64"
      ]
     },
     "execution_count": 116,
     "metadata": {},
     "output_type": "execute_result"
    }
   ],
   "source": [
    "# Para calcular la correlación, usaremos \"corrwith\", que nos permite comparar un DataFrame vs. una Serie.\n",
    "# En contraste, \"corr\" es para comparar dos Series.\n",
    "correlaciones = vehicles.loc[:, vehicles.columns != 'CO2 Emission Grams/Mile'].corrwith(vehicles['CO2 Emission Grams/Mile'])\n",
    "\n",
    "# Ordenemos los valores\n",
    "correlaciones.sort_values(ascending=False)"
   ]
  },
  {
   "cell_type": "markdown",
   "metadata": {},
   "source": [
    "- La predicción no estuvo tan mal. El costo de gasolina por año es el segundo mejor predictor de las emisiones de CO2 de un vehículo. Sin embargo, la variable más importante son los Fuel Barrels por año. \n",
    "\n",
    "- La variable que menos nos ayudaría para predecir las emisiones de CO2 sería el año del coche, pues su correlación es la más cercana a cero. (OJO: una correlación negativa no es equivalente a decir que la relación no es importante. Lo que importa es el valor de la correlación, no si es negativa o positiva). "
   ]
  },
  {
   "cell_type": "markdown",
   "metadata": {},
   "source": [
    "Build a regression model for this data. What type of regression are you using? Add your responses as comments after your code."
   ]
  },
  {
   "cell_type": "code",
   "execution_count": 120,
   "metadata": {},
   "outputs": [
    {
     "name": "stdout",
     "output_type": "stream",
     "text": [
      "Slope:  26.284\n",
      "Correlacion:  0.986\n",
      "Desviación estándar:  0.023\n"
     ]
    }
   ],
   "source": [
    "# Utilicemos nuevamenta una regresión lineal. \n",
    "v_regresion = stats.linregress(x=vehicles['Fuel Barrels/Year'], y=vehicles['CO2 Emission Grams/Mile'])\n",
    "print('Slope: ', v_regresion.slope.round(3))\n",
    "print('Correlacion: ', v_regresion.rvalue.round(3))\n",
    "print('Desviación estándar: ', v_regresion.stderr.round(3))"
   ]
  },
  {
   "cell_type": "markdown",
   "metadata": {},
   "source": [
    "Print your regression summary, and interpret the results. What are the most important varibles in your model and why? What can conclusions can you draw from your model and how confident in these conclusions are you? Add your responses as comments after your code."
   ]
  },
  {
   "cell_type": "code",
   "execution_count": null,
   "metadata": {},
   "outputs": [],
   "source": [
    "# Your response here. "
   ]
  },
  {
   "cell_type": "markdown",
   "metadata": {},
   "source": [
    "## Bonus Challenge: Error Analysis"
   ]
  },
  {
   "cell_type": "markdown",
   "metadata": {},
   "source": [
    "I am suspicious about the last few parties I have thrown: it seems that the more people I invite the more people are unable to attend. To know if my hunch is supported by data, I have decided to do an analysis. I have collected my data in the table below, where X is the number of people I invited, and Y is the number of people who attended. \n",
    "\n",
    "|  X |  Y |\n",
    "|----|----|\n",
    "| 1  |  1 |\n",
    "| 3  |  2 |\n",
    "| 4  |  4 |\n",
    "| 6  |  4 |\n",
    "| 8  |  5 |\n",
    "| 9  |  7 |\n",
    "| 11 |  8 |\n",
    "| 14 |  13 |"
   ]
  },
  {
   "cell_type": "markdown",
   "metadata": {},
   "source": [
    "We want to know if the relationship modeled by the two random variables is linear or not, and therefore if it is appropriate to model it with a linear regression. \n",
    "First, build a dataframe with the data. "
   ]
  },
  {
   "cell_type": "code",
   "execution_count": 152,
   "metadata": {},
   "outputs": [
    {
     "data": {
      "text/html": [
       "<div>\n",
       "<style scoped>\n",
       "    .dataframe tbody tr th:only-of-type {\n",
       "        vertical-align: middle;\n",
       "    }\n",
       "\n",
       "    .dataframe tbody tr th {\n",
       "        vertical-align: top;\n",
       "    }\n",
       "\n",
       "    .dataframe thead th {\n",
       "        text-align: right;\n",
       "    }\n",
       "</style>\n",
       "<table border=\"1\" class=\"dataframe\">\n",
       "  <thead>\n",
       "    <tr style=\"text-align: right;\">\n",
       "      <th></th>\n",
       "      <th>invitados</th>\n",
       "      <th>asistentes</th>\n",
       "    </tr>\n",
       "  </thead>\n",
       "  <tbody>\n",
       "    <tr>\n",
       "      <th>0</th>\n",
       "      <td>1</td>\n",
       "      <td>1</td>\n",
       "    </tr>\n",
       "    <tr>\n",
       "      <th>1</th>\n",
       "      <td>3</td>\n",
       "      <td>2</td>\n",
       "    </tr>\n",
       "    <tr>\n",
       "      <th>2</th>\n",
       "      <td>4</td>\n",
       "      <td>4</td>\n",
       "    </tr>\n",
       "    <tr>\n",
       "      <th>3</th>\n",
       "      <td>6</td>\n",
       "      <td>4</td>\n",
       "    </tr>\n",
       "  </tbody>\n",
       "</table>\n",
       "</div>"
      ],
      "text/plain": [
       "   invitados  asistentes\n",
       "0          1           1\n",
       "1          3           2\n",
       "2          4           4\n",
       "3          6           4"
      ]
     },
     "execution_count": 152,
     "metadata": {},
     "output_type": "execute_result"
    }
   ],
   "source": [
    "# Contruyamos nuestro DataFrame\n",
    "fiesta = pd.DataFrame({'invitados': [1, 3, 4, 6, 8, 9, 11, 14], 'asistentes': [1, 2, 4, 4, 5, 7, 8, 13]})\n",
    "fiesta.head(4)"
   ]
  },
  {
   "cell_type": "markdown",
   "metadata": {},
   "source": [
    "Draw a dispersion diagram (scatter plot) for the data, and fit a regression line."
   ]
  },
  {
   "cell_type": "code",
   "execution_count": 136,
   "metadata": {},
   "outputs": [
    {
     "data": {
      "image/png": "[encoded data removed]",
      "text/plain": [
       "<Figure size 432x288 with 1 Axes>"
      ]
     },
     "metadata": {},
     "output_type": "display_data"
    }
   ],
   "source": [
    "# Grafiquemos con una gráfica de dispersión con línea de regresión. \n",
    "ax = sns.regplot(data=fiesta, x='invitados', y='asistentes', ci=95)\n",
    "ax.set_title('Relación lineal entre invitados y asistentes', fontsize=13);"
   ]
  },
  {
   "cell_type": "markdown",
   "metadata": {},
   "source": [
    "What do you see? What does this plot tell you about the likely relationship between the variables? Print the results from your regression."
   ]
  },
  {
   "cell_type": "markdown",
   "metadata": {},
   "source": [
    "**Respuesta**\n",
    "\n",
    "- Parece que hay una correlación positiva entre los invitados y los asistentes"
   ]
  },
  {
   "cell_type": "code",
   "execution_count": 139,
   "metadata": {},
   "outputs": [
    {
     "name": "stdout",
     "output_type": "stream",
     "text": [
      "Slope:  0.848\n",
      "Correlacion:  0.965\n",
      "Desviación estándar:  0.094\n"
     ]
    }
   ],
   "source": [
    "# Obtengamos algunos atributos del modelo de regresión.\n",
    "fiesta_regresion = stats.linregress(x=fiesta.invitados, y=fiesta.asistentes)\n",
    "print('Slope: ', fiesta_regresion.slope.round(3))\n",
    "print('Correlacion: ', fiesta_regresion.rvalue.round(3))\n",
    "print('Desviación estándar: ', fiesta_regresion.stderr.round(3))"
   ]
  },
  {
   "cell_type": "markdown",
   "metadata": {},
   "source": [
    "Do you see any problematic points, or outliers, in your data? Remove these points and recalculate your regression. Print the new dispersion diagram with your new model and the results of your model. "
   ]
  },
  {
   "cell_type": "markdown",
   "metadata": {},
   "source": [
    "**Respuesta**\n",
    "\n",
    "- Como se observa en la gráfica anterior, hay tres valores que no entran en nuestro intervalo de confianza del 95%. Excluyámoslos."
   ]
  },
  {
   "cell_type": "code",
   "execution_count": 164,
   "metadata": {},
   "outputs": [
    {
     "data": {
      "image/png": "[encoded data removed]",
      "text/plain": [
       "<Figure size 432x288 with 1 Axes>"
      ]
     },
     "metadata": {},
     "output_type": "display_data"
    }
   ],
   "source": [
    "# Eliminar valores outliers\n",
    "fiesta_filtrada = fiesta.loc[fiesta.invitados.isin([4, 8, 14]) == False, :]\n",
    "\n",
    "# Grafiquemos\n",
    "ax = sns.regplot(data=fiesta_filtrada, x='invitados', y='asistentes', ci=95)\n",
    "ax.set_title('Relación lineal entre invitados y asistentes (sin outliers)', fontsize=13);"
   ]
  },
  {
   "cell_type": "code",
   "execution_count": 165,
   "metadata": {},
   "outputs": [
    {
     "name": "stdout",
     "output_type": "stream",
     "text": [
      "Slope:  0.735\n",
      "Correlacion:  0.994\n",
      "Desviación estándar:  0.046\n"
     ]
    }
   ],
   "source": [
    "# Recalculemos los atributos de la regresión sin los outliers. \n",
    "fiesta_f_regresion = stats.linregress(x=fiesta_filtrada.invitados, y=fiesta_filtrada.asistentes)\n",
    "print('Slope: ', fiesta_f_regresion.slope.round(3))\n",
    "print('Correlacion: ', fiesta_f_regresion.rvalue.round(3))\n",
    "print('Desviación estándar: ', fiesta_f_regresion.stderr.round(3))"
   ]
  },
  {
   "cell_type": "markdown",
   "metadata": {},
   "source": [
    "What changed? Based on the results of the two models and your graphs, what can you say about the form of the data with the problematic point and without it?"
   ]
  },
  {
   "cell_type": "markdown",
   "metadata": {},
   "source": [
    "**Respuesta**\n",
    "\n",
    "- Naturalmente, la correlación es mayor una vez que eliminalos los outliers, los cuales, por definición, por valores que no siguen la tendencia general de los demás datos. "
   ]
  }
 ],
 "metadata": {
  "kernelspec": {
   "display_name": "Python 3",
   "language": "python",
   "name": "python3"
  },
  "language_info": {
   "codemirror_mode": {
    "name": "ipython",
    "version": 3
   },
   "file_extension": ".py",
   "mimetype": "text/x-python",
   "name": "python",
   "nbconvert_exporter": "python",
   "pygments_lexer": "ipython3",
   "version": "3.8.5"
  }
 },
 "nbformat": 4,
 "nbformat_minor": 2
}
