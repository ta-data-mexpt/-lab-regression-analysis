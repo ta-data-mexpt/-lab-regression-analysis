{
 "cells": [
  {
   "cell_type": "markdown",
   "metadata": {},
   "source": [
    "# Lab: Regression Analysis"
   ]
  },
  {
   "cell_type": "markdown",
   "metadata": {},
   "source": [
    "### Before you start:\n",
    "\n",
    "* Read the README.md file\n",
    "* Comment as much as you can and use the resources (README.md file) \n",
    "\n",
    "Happy learning!"
   ]
  },
  {
   "cell_type": "markdown",
   "metadata": {},
   "source": [
    "## Challenge 1\n",
    "I work at a coding bootcamp, and I have developed a theory that the younger my students are, the more often they are late to class. In order to test my hypothesis, I have collected some data in the following table:\n",
    "\n",
    "| StudentID | Age | Tardies |\n",
    "|--------|-----|------------|\n",
    "| 1      | 17  | 10         |\n",
    "| 2      | 51  | 1          |\n",
    "| 3      | 27  | 5          |\n",
    "| 4      | 21  | 9         |\n",
    "| 5      | 36  |  4         |\n",
    "| 6      | 48  |  2         |\n",
    "| 7      | 19  |  9         |\n",
    "| 8      | 26  | 6          |\n",
    "| 9      | 54  |  0         |\n",
    "| 10     | 30  |  3         |"
   ]
  },
  {
   "cell_type": "markdown",
   "metadata": {},
   "source": [
    "Use this command to create a dataframe with the data provided in the table. \n",
    "~~~~\n",
    "student_data = pd.DataFrame({'X': [x_values], 'Y': [y_values]})\n",
    "~~~~"
   ]
  },
  {
   "cell_type": "code",
   "execution_count": 1,
   "metadata": {},
   "outputs": [],
   "source": [
    "# Importamos las bibliotecas que utilizaremos en el resto del lab\n",
    "import pandas as pd\n",
    "import seaborn as sns\n",
    "from scipy import stats\n",
    "import statsmodels.api as sm"
   ]
  },
  {
   "cell_type": "code",
   "execution_count": 2,
   "metadata": {},
   "outputs": [
    {
     "data": {
      "text/html": [
       "<div>\n",
       "<style scoped>\n",
       "    .dataframe tbody tr th:only-of-type {\n",
       "        vertical-align: middle;\n",
       "    }\n",
       "\n",
       "    .dataframe tbody tr th {\n",
       "        vertical-align: top;\n",
       "    }\n",
       "\n",
       "    .dataframe thead th {\n",
       "        text-align: right;\n",
       "    }\n",
       "</style>\n",
       "<table border=\"1\" class=\"dataframe\">\n",
       "  <thead>\n",
       "    <tr style=\"text-align: right;\">\n",
       "      <th></th>\n",
       "      <th>edad</th>\n",
       "      <th>retrasos</th>\n",
       "    </tr>\n",
       "  </thead>\n",
       "  <tbody>\n",
       "    <tr>\n",
       "      <th>0</th>\n",
       "      <td>17</td>\n",
       "      <td>10</td>\n",
       "    </tr>\n",
       "    <tr>\n",
       "      <th>1</th>\n",
       "      <td>51</td>\n",
       "      <td>1</td>\n",
       "    </tr>\n",
       "    <tr>\n",
       "      <th>2</th>\n",
       "      <td>27</td>\n",
       "      <td>5</td>\n",
       "    </tr>\n",
       "    <tr>\n",
       "      <th>3</th>\n",
       "      <td>21</td>\n",
       "      <td>9</td>\n",
       "    </tr>\n",
       "  </tbody>\n",
       "</table>\n",
       "</div>"
      ],
      "text/plain": [
       "   edad  retrasos\n",
       "0    17        10\n",
       "1    51         1\n",
       "2    27         5\n",
       "3    21         9"
      ]
     },
     "execution_count": 2,
     "metadata": {},
     "output_type": "execute_result"
    }
   ],
   "source": [
    "# Creamos un diccionario para, después, transformarlo fácilmente a un DataFrame\n",
    "x_values = [17, 51, 27, 21, 36, 48, 19, 26, 54, 30]\n",
    "y_values = [10, 1, 5, 9, 4, 2, 9, 6, 0, 3]\n",
    "diccionario_values = {'X': x_values, 'Y': y_values}\n",
    "\n",
    "# Transformamos el diccionario a un DataFrame\n",
    "student_data = pd.DataFrame(diccionario_values)\n",
    "\n",
    "# Cambiamos el nombre de las columnas\n",
    "student_data.columns = ['edad', 'retrasos']\n",
    "student_data.head(4)"
   ]
  },
  {
   "cell_type": "markdown",
   "metadata": {},
   "source": [
    "Draw a dispersion diagram (scatter plot) for the data."
   ]
  },
  {
   "cell_type": "code",
   "execution_count": 3,
   "metadata": {},
   "outputs": [
    {
     "data": {
      "image/png": "[encoded data removed]",
      "text/plain": [
       "<Figure size 432x288 with 1 Axes>"
      ]
     },
     "metadata": {},
     "output_type": "display_data"
    }
   ],
   "source": [
    "# Cambiemos primero el estilo de las gráficas para que se vean más cool\n",
    "sns.set_style('darkgrid')\n",
    "\n",
    "# Ahora sí grafiquemos la gráfica de dispersión\n",
    "ax = sns.scatterplot(data=student_data, x=\"edad\", y=\"retrasos\")\n",
    "\n",
    "# Agreguémosle un título a nuestra gráfica\n",
    "ax.set_title('Relación entre edad y retrasos', fontsize=13);"
   ]
  },
  {
   "cell_type": "markdown",
   "metadata": {},
   "source": [
    "Do you see a trend? Can you make any hypotheses about the relationship between age and number of tardies?"
   ]
  },
  {
   "cell_type": "markdown",
   "metadata": {},
   "source": [
    "**Respuesta**\n",
    "\n",
    "- A simple vista, parece que hay una correlación negativa entre los retrasos y la edad, es decir, entre más grandes en edad son las personas, menos retrasos tienen. Por el contrario, entre más jóvenes, más tarde llegan a clase. "
   ]
  },
  {
   "cell_type": "markdown",
   "metadata": {},
   "source": [
    "Calculate the covariance and correlation of the variables in your plot. What is the difference between these two measures? Compare their values. What do they tell you in this case? Add your responses as comments after your code."
   ]
  },
  {
   "cell_type": "markdown",
   "metadata": {},
   "source": [
    "**Respuesta**\n",
    "\n",
    "La covarianza nos indica la relación linear que hay entre dos variables. En otras palabras, la covarianza nos indicaría si\n",
    "- ambas aumentan o disminuyen de manera conjunta (covarianza positiva),\n",
    "- una variable disminuye cuando la otra aumenta (covarianza negativa), o\n",
    "- no hay relación entre las variables (covarianza cercana a cero).\n",
    "\n",
    "La correlación es muy similar a la covarianza solo que, además de indicarnos la relación, nos indica _el grado de relación_ entre las variables. Una correlación nos diría, por ejemplo, no solo que ambas variables aumentan o disminuyen de manera conjunta, sino también _qué tanto_ lo hace una con respecto de la otra. En términos numéricos, una correlación puede ir de -1 a 1:\n",
    "- -1: indica que siempre que una variable aumenta la otra disminuye.\n",
    "- 0: indica que no hay relación linear evidente entre las variables.\n",
    "- 1: indica que ambas variables aumentan o disminuyen de manera conjunta. "
   ]
  },
  {
   "cell_type": "code",
   "execution_count": 4,
   "metadata": {},
   "outputs": [
    {
     "name": "stdout",
     "output_type": "stream",
     "text": [
      "Covarianza:  -45.57\n",
      "Correlación:  -0.94\n"
     ]
    }
   ],
   "source": [
    "# Calculemos la covarianza redondeada a dos decimales\n",
    "covarianza = student_data['edad'].cov(student_data['retrasos']).round(2)\n",
    "print('Covarianza: ', covarianza)\n",
    "\n",
    "# Calculemos la correlación redondeada a dos decimales\n",
    "correlacion = student_data['edad'].corr(student_data['retrasos']).round(2)\n",
    "print('Correlación: ', correlacion)"
   ]
  },
  {
   "cell_type": "markdown",
   "metadata": {},
   "source": [
    "    - La covarianza negativa nos indica que hay una relación negativa entra las variables.\n",
    "    - La correlación nos indica que hay una relación negativa y que, además, la relación es muy fuerte (casi es de -1). Es decir, las variables se mueven casi en sincronía y de manera inversa."
   ]
  },
  {
   "cell_type": "markdown",
   "metadata": {},
   "source": [
    "Build a regression model for this data. What will be your outcome variable? What type of regression are you using? Add your responses as comments after your code."
   ]
  },
  {
   "cell_type": "markdown",
   "metadata": {},
   "source": [
    "**Respuesta** \n",
    "- Utilicemos la regresión más sencilla: la regresión lineal. \n",
    "- En este escenario, la variable dependiente —la que queremos predecir— serán los retrasos. (Típicamente, la variable _x_ es la independiente y la variable _y_ es la dependiente).  "
   ]
  },
  {
   "cell_type": "code",
   "execution_count": 5,
   "metadata": {},
   "outputs": [
    {
     "name": "stdout",
     "output_type": "stream",
     "text": [
      "Slope:  -0.243\n",
      "Intercept:  12.889\n",
      "Correlación:  -0.939\n",
      "R-squared:  0.882\n",
      "p-value:  0.0\n",
      "Desviación estándar:  0.031\n"
     ]
    }
   ],
   "source": [
    "# Construyamos una regresión lineal\n",
    "regresion = stats.linregress(x=student_data.edad, y=student_data.retrasos)\n",
    "\n",
    "# Ahora podemos extraer varios atributos de la regresión\n",
    "## Cuánto aumenta y cuando x aumenta 1.\n",
    "print('Slope: ', regresion.slope.round(3))\n",
    "\n",
    "## Valor de y cuando x vale cero.\n",
    "print('Intercept: ', regresion.intercept.round(3))\n",
    "\n",
    "print('Correlación: ', f'{(regresion.rvalue).round(3)}')\n",
    "\n",
    "## Qué proporción de valores son explicados por el modelo. En otras palabras, \n",
    "## qué tan alejados están los valores de la línea de regresión. \n",
    "print('R-squared: ', f'{(regresion.rvalue**2).round(3)}') \n",
    "\n",
    "## Indica si podemos rechazar la hipótesis nula de que la correlación es igual a cero\n",
    "## (es decir, que no hay relación). Si p < 0.05 rechazamos la hipótesis nula, lo que\n",
    "## indicaría que sí hay relación entre ambas variables. \n",
    "print('p-value: ', regresion.pvalue.round(3)) \n",
    " \n",
    "print('Desviación estándar: ', regresion.stderr.round(3))"
   ]
  },
  {
   "cell_type": "markdown",
   "metadata": {},
   "source": [
    "Plot your regression model on your scatter plot."
   ]
  },
  {
   "cell_type": "code",
   "execution_count": 33,
   "metadata": {},
   "outputs": [
    {
     "data": {
      "image/png": "[encoded data removed]",
      "text/plain": [
       "<Figure size 432x288 with 1 Axes>"
      ]
     },
     "metadata": {},
     "output_type": "display_data"
    }
   ],
   "source": [
    "# Elaboremos una gráfica de dispersión que incluya la línea de regresión.\n",
    "ax = sns.regplot(data=student_data, x='edad', y='retrasos')\n",
    "ax.set_title('Relación lineal entre retrasos y edad', fontsize=13);"
   ]
  },
  {
   "cell_type": "markdown",
   "metadata": {},
   "source": [
    "Interpret the results of your model. What can conclusions can you draw from your model and how confident in these conclusions are you? Can we say that age is a good predictor of tardiness? Add your responses as comments after your code."
   ]
  },
  {
   "cell_type": "markdown",
   "metadata": {},
   "source": [
    "**Respuesta:**\n",
    "\n",
    "- No solo la correlación entre las variables es alta, sino que la r-cuadrada es de 0.88, cercana a 1 (relación perfecta), por lo que la edad sí es un buen predictor de los retrasos, al menos con un 88% de probabilidad. "
   ]
  },
  {
   "cell_type": "markdown",
   "metadata": {},
   "source": [
    "## Challenge 2\n",
    "For the second part of this lab, we will use the vehicles.csv data set. You can find a copy of the dataset in the git hub folder. This dataset includes variables related to vehicle characteristics, including the model, make, and energy efficiency standards, as well as each car's CO2 emissions. As discussed in class the goal of this exercise is to predict vehicles' CO2 emissions based on several independent variables. "
   ]
  },
  {
   "cell_type": "code",
   "execution_count": 7,
   "metadata": {},
   "outputs": [],
   "source": [
    "# Import any libraries you may need & the data\n",
    "vehicles = pd.read_csv('vehicles.csv')"
   ]
  },
  {
   "cell_type": "markdown",
   "metadata": {},
   "source": [
    "Let's use the following variables for our analysis: Year, Cylinders, Fuel Barrels/Year, Combined MPG, and Fuel Cost/Year. We will use 'CO2 Emission Grams/Mile' as our outcome variable. \n",
    "\n",
    "Calculate the correlations between each of these variables and the outcome. Which variable do you think will be the most important in determining CO2 emissions? Which provides the least amount of helpful information for determining CO2 emissions? Add your responses as comments after your code."
   ]
  },
  {
   "cell_type": "markdown",
   "metadata": {},
   "source": [
    "**Respuesta**\n",
    "- Mi sospecha es que la variable que más predice emisiones de CO2 será Costo de Combustible por Año."
   ]
  },
  {
   "cell_type": "code",
   "execution_count": 8,
   "metadata": {},
   "outputs": [
    {
     "data": {
      "text/plain": [
       "Index(['Make', 'Model', 'Year', 'Engine Displacement', 'Cylinders',\n",
       "       'Transmission', 'Drivetrain', 'Vehicle Class', 'Fuel Type',\n",
       "       'Fuel Barrels/Year', 'City MPG', 'Highway MPG', 'Combined MPG',\n",
       "       'CO2 Emission Grams/Mile', 'Fuel Cost/Year'],\n",
       "      dtype='object')"
      ]
     },
     "execution_count": 8,
     "metadata": {},
     "output_type": "execute_result"
    }
   ],
   "source": [
    "# Reduzcamos nuestro dataset solo a las variables relevantes. \n",
    "vehicles.columns"
   ]
  },
  {
   "cell_type": "code",
   "execution_count": 9,
   "metadata": {},
   "outputs": [],
   "source": [
    "vehicles = vehicles[['Year', 'Cylinders', 'Fuel Barrels/Year', 'Combined MPG', 'Fuel Cost/Year', 'CO2 Emission Grams/Mile']]"
   ]
  },
  {
   "cell_type": "code",
   "execution_count": 10,
   "metadata": {},
   "outputs": [
    {
     "data": {
      "text/plain": [
       "Fuel Barrels/Year    0.986189\n",
       "Fuel Cost/Year       0.930865\n",
       "Cylinders            0.752393\n",
       "Year                -0.222300\n",
       "Combined MPG        -0.926229\n",
       "dtype: float64"
      ]
     },
     "execution_count": 10,
     "metadata": {},
     "output_type": "execute_result"
    }
   ],
   "source": [
    "# Para calcular la correlación, usaremos \"corrwith\", que nos permite comparar \n",
    "# un DataFrame vs. una Serie. En contraste, \"corr\" es para comparar dos Series.\n",
    "correlaciones = vehicles.loc[:, vehicles.columns != 'CO2 Emission Grams/Mile'].corrwith(vehicles['CO2 Emission Grams/Mile'])\n",
    "\n",
    "# Ordenemos los valores\n",
    "correlaciones.sort_values(ascending=False)"
   ]
  },
  {
   "cell_type": "markdown",
   "metadata": {},
   "source": [
    "- La predicción no estuvo tan mal. El costo de gasolina por año es el segundo mejor predictor de las emisiones de CO2 de un vehículo. Sin embargo, la variable más importante son los Fuel Barrels por año. \n",
    "\n",
    "- La variable que menos nos ayudaría para predecir las emisiones de CO2 sería el año del coche, pues su correlación es la más cercana a cero. (OJO: una correlación negativa no es equivalente a decir que la relación no es importante. Lo que importa es el valor de la correlación, no si es negativa o positiva). "
   ]
  },
  {
   "cell_type": "markdown",
   "metadata": {},
   "source": [
    "Build a regression model for this data. What type of regression are you using? Add your responses as comments after your code."
   ]
  },
  {
   "cell_type": "markdown",
   "metadata": {},
   "source": [
    "**Respuesta**\n",
    "\n",
    "- En este caso, no podemos usar `linregress` al igual que hicimos antes, puesto que esta función es para cuando tenemos _una variable independiente_ y una dependiente. En contraste, ahora tenemos _muchas variables independientes_ y una dependiente. Por ello, utilicemos mejor el módulo `statsmodels`."
   ]
  },
  {
   "cell_type": "code",
   "execution_count": 11,
   "metadata": {},
   "outputs": [
    {
     "data": {
      "text/html": [
       "<div>\n",
       "<style scoped>\n",
       "    .dataframe tbody tr th:only-of-type {\n",
       "        vertical-align: middle;\n",
       "    }\n",
       "\n",
       "    .dataframe tbody tr th {\n",
       "        vertical-align: top;\n",
       "    }\n",
       "\n",
       "    .dataframe thead th {\n",
       "        text-align: right;\n",
       "    }\n",
       "</style>\n",
       "<table border=\"1\" class=\"dataframe\">\n",
       "  <thead>\n",
       "    <tr style=\"text-align: right;\">\n",
       "      <th></th>\n",
       "      <th>const</th>\n",
       "      <th>Year</th>\n",
       "      <th>Cylinders</th>\n",
       "      <th>Fuel Barrels/Year</th>\n",
       "      <th>Combined MPG</th>\n",
       "      <th>Fuel Cost/Year</th>\n",
       "    </tr>\n",
       "  </thead>\n",
       "  <tbody>\n",
       "    <tr>\n",
       "      <th>0</th>\n",
       "      <td>1.0</td>\n",
       "      <td>1984</td>\n",
       "      <td>4.0</td>\n",
       "      <td>19.388824</td>\n",
       "      <td>17</td>\n",
       "      <td>1950</td>\n",
       "    </tr>\n",
       "    <tr>\n",
       "      <th>1</th>\n",
       "      <td>1.0</td>\n",
       "      <td>1984</td>\n",
       "      <td>6.0</td>\n",
       "      <td>25.354615</td>\n",
       "      <td>13</td>\n",
       "      <td>2550</td>\n",
       "    </tr>\n",
       "    <tr>\n",
       "      <th>2</th>\n",
       "      <td>1.0</td>\n",
       "      <td>1985</td>\n",
       "      <td>4.0</td>\n",
       "      <td>20.600625</td>\n",
       "      <td>16</td>\n",
       "      <td>2100</td>\n",
       "    </tr>\n",
       "    <tr>\n",
       "      <th>3</th>\n",
       "      <td>1.0</td>\n",
       "      <td>1985</td>\n",
       "      <td>6.0</td>\n",
       "      <td>25.354615</td>\n",
       "      <td>13</td>\n",
       "      <td>2550</td>\n",
       "    </tr>\n",
       "  </tbody>\n",
       "</table>\n",
       "</div>"
      ],
      "text/plain": [
       "   const  Year  Cylinders  Fuel Barrels/Year  Combined MPG  Fuel Cost/Year\n",
       "0    1.0  1984        4.0          19.388824            17            1950\n",
       "1    1.0  1984        6.0          25.354615            13            2550\n",
       "2    1.0  1985        4.0          20.600625            16            2100\n",
       "3    1.0  1985        6.0          25.354615            13            2550"
      ]
     },
     "execution_count": 11,
     "metadata": {},
     "output_type": "execute_result"
    }
   ],
   "source": [
    "# Antes de asignar nuestros valores, debemos añadir una columna con un valor constante (`add_constant`). \n",
    "# El propósito de este valor, según leí, es para que el modelo considere los valores correctos.\n",
    "# Más información: https://stackoverflow.com/questions/41404817/statsmodels-add-constant-for-ols-intercept-what-is-this-actually-doing\n",
    "sm.add_constant(vehicles.loc[:, vehicles.columns != 'CO2 Emission Grams/Mile']).head(4)"
   ]
  },
  {
   "cell_type": "code",
   "execution_count": 23,
   "metadata": {},
   "outputs": [],
   "source": [
    "# Asignamos variables independientes (X) y la dependiente (Y)\n",
    "X = sm.add_constant(vehicles.loc[:, vehicles.columns != 'CO2 Emission Grams/Mile'])\n",
    "Y = vehicles['CO2 Emission Grams/Mile']\n",
    "\n",
    "# Creamos el modelo (OLS, que significa \"ordinary least square\", es lo mismo que una regresión lineal)\n",
    "modelo = sm.OLS(Y, X)\n",
    "modelo = modelo.fit()\n",
    "\n",
    "# Una vez entrenado el modelo, predecimos los valores de y para nuestros valores x originales. \n",
    "predicciones = modelo.predict(X)"
   ]
  },
  {
   "cell_type": "markdown",
   "metadata": {},
   "source": [
    "Print your regression summary, and interpret the results. What are the most important varibles in your model and why? What can conclusions can you draw from your model and how confident in these conclusions are you? Add your responses as comments after your code."
   ]
  },
  {
   "cell_type": "code",
   "execution_count": 24,
   "metadata": {},
   "outputs": [
    {
     "data": {
      "text/html": [
       "<table class=\"simpletable\">\n",
       "<caption>OLS Regression Results</caption>\n",
       "<tr>\n",
       "  <th>Dep. Variable:</th>    <td>CO2 Emission Grams/Mile</td> <th>  R-squared:         </th>  <td>   0.981</td>  \n",
       "</tr>\n",
       "<tr>\n",
       "  <th>Model:</th>                      <td>OLS</td>           <th>  Adj. R-squared:    </th>  <td>   0.981</td>  \n",
       "</tr>\n",
       "<tr>\n",
       "  <th>Method:</th>                <td>Least Squares</td>      <th>  F-statistic:       </th>  <td>3.687e+05</td> \n",
       "</tr>\n",
       "<tr>\n",
       "  <th>Date:</th>                <td>Thu, 10 Jun 2021</td>     <th>  Prob (F-statistic):</th>   <td>  0.00</td>   \n",
       "</tr>\n",
       "<tr>\n",
       "  <th>Time:</th>                    <td>15:49:17</td>         <th>  Log-Likelihood:    </th> <td>-1.5173e+05</td>\n",
       "</tr>\n",
       "<tr>\n",
       "  <th>No. Observations:</th>         <td> 35952</td>          <th>  AIC:               </th>  <td>3.035e+05</td> \n",
       "</tr>\n",
       "<tr>\n",
       "  <th>Df Residuals:</th>             <td> 35946</td>          <th>  BIC:               </th>  <td>3.035e+05</td> \n",
       "</tr>\n",
       "<tr>\n",
       "  <th>Df Model:</th>                 <td>     5</td>          <th>                     </th>      <td> </td>     \n",
       "</tr>\n",
       "<tr>\n",
       "  <th>Covariance Type:</th>         <td>nonrobust</td>        <th>                     </th>      <td> </td>     \n",
       "</tr>\n",
       "</table>\n",
       "<table class=\"simpletable\">\n",
       "<tr>\n",
       "          <td></td>             <th>coef</th>     <th>std err</th>      <th>t</th>      <th>P>|t|</th>  <th>[0.025</th>    <th>0.975]</th>  \n",
       "</tr>\n",
       "<tr>\n",
       "  <th>const</th>             <td>  769.8883</td> <td>   19.392</td> <td>   39.702</td> <td> 0.000</td> <td>  731.880</td> <td>  807.897</td>\n",
       "</tr>\n",
       "<tr>\n",
       "  <th>Year</th>              <td>   -0.3206</td> <td>    0.010</td> <td>  -33.060</td> <td> 0.000</td> <td>   -0.340</td> <td>   -0.302</td>\n",
       "</tr>\n",
       "<tr>\n",
       "  <th>Cylinders</th>         <td>    1.8788</td> <td>    0.083</td> <td>   22.598</td> <td> 0.000</td> <td>    1.716</td> <td>    2.042</td>\n",
       "</tr>\n",
       "<tr>\n",
       "  <th>Fuel Barrels/Year</th> <td>   19.0529</td> <td>    0.061</td> <td>  311.600</td> <td> 0.000</td> <td>   18.933</td> <td>   19.173</td>\n",
       "</tr>\n",
       "<tr>\n",
       "  <th>Combined MPG</th>      <td>   -3.0404</td> <td>    0.042</td> <td>  -71.645</td> <td> 0.000</td> <td>   -3.124</td> <td>   -2.957</td>\n",
       "</tr>\n",
       "<tr>\n",
       "  <th>Fuel Cost/Year</th>    <td>    0.0323</td> <td>    0.000</td> <td>   67.025</td> <td> 0.000</td> <td>    0.031</td> <td>    0.033</td>\n",
       "</tr>\n",
       "</table>\n",
       "<table class=\"simpletable\">\n",
       "<tr>\n",
       "  <th>Omnibus:</th>       <td>71055.645</td> <th>  Durbin-Watson:     </th>   <td>   0.747</td>   \n",
       "</tr>\n",
       "<tr>\n",
       "  <th>Prob(Omnibus):</th>  <td> 0.000</td>   <th>  Jarque-Bera (JB):  </th> <td>246941260.782</td>\n",
       "</tr>\n",
       "<tr>\n",
       "  <th>Skew:</th>           <td>15.902</td>   <th>  Prob(JB):          </th>   <td>    0.00</td>   \n",
       "</tr>\n",
       "<tr>\n",
       "  <th>Kurtosis:</th>       <td>407.766</td>  <th>  Cond. No.          </th>   <td>6.20e+05</td>   \n",
       "</tr>\n",
       "</table><br/><br/>Notes:<br/>[1] Standard Errors assume that the covariance matrix of the errors is correctly specified.<br/>[2] The condition number is large, 6.2e+05. This might indicate that there are<br/>strong multicollinearity or other numerical problems."
      ],
      "text/plain": [
       "<class 'statsmodels.iolib.summary.Summary'>\n",
       "\"\"\"\n",
       "                               OLS Regression Results                              \n",
       "===================================================================================\n",
       "Dep. Variable:     CO2 Emission Grams/Mile   R-squared:                       0.981\n",
       "Model:                                 OLS   Adj. R-squared:                  0.981\n",
       "Method:                      Least Squares   F-statistic:                 3.687e+05\n",
       "Date:                     Thu, 10 Jun 2021   Prob (F-statistic):               0.00\n",
       "Time:                             15:49:17   Log-Likelihood:            -1.5173e+05\n",
       "No. Observations:                    35952   AIC:                         3.035e+05\n",
       "Df Residuals:                        35946   BIC:                         3.035e+05\n",
       "Df Model:                                5                                         \n",
       "Covariance Type:                 nonrobust                                         \n",
       "=====================================================================================\n",
       "                        coef    std err          t      P>|t|      [0.025      0.975]\n",
       "-------------------------------------------------------------------------------------\n",
       "const               769.8883     19.392     39.702      0.000     731.880     807.897\n",
       "Year                 -0.3206      0.010    -33.060      0.000      -0.340      -0.302\n",
       "Cylinders             1.8788      0.083     22.598      0.000       1.716       2.042\n",
       "Fuel Barrels/Year    19.0529      0.061    311.600      0.000      18.933      19.173\n",
       "Combined MPG         -3.0404      0.042    -71.645      0.000      -3.124      -2.957\n",
       "Fuel Cost/Year        0.0323      0.000     67.025      0.000       0.031       0.033\n",
       "==============================================================================\n",
       "Omnibus:                    71055.645   Durbin-Watson:                   0.747\n",
       "Prob(Omnibus):                  0.000   Jarque-Bera (JB):        246941260.782\n",
       "Skew:                          15.902   Prob(JB):                         0.00\n",
       "Kurtosis:                     407.766   Cond. No.                     6.20e+05\n",
       "==============================================================================\n",
       "\n",
       "Notes:\n",
       "[1] Standard Errors assume that the covariance matrix of the errors is correctly specified.\n",
       "[2] The condition number is large, 6.2e+05. This might indicate that there are\n",
       "strong multicollinearity or other numerical problems.\n",
       "\"\"\""
      ]
     },
     "execution_count": 24,
     "metadata": {},
     "output_type": "execute_result"
    }
   ],
   "source": [
    "# Imprimimos las métricas de nuestro modelo\n",
    "modelo.summary()"
   ]
  },
  {
   "cell_type": "markdown",
   "metadata": {},
   "source": [
    "**Respuesta**\n",
    "\n",
    "- Las variables más importantes del modelo son, bueno, todas. Esto lo sabemos al analizar `P<|t|`. Esta métrica nos indica qué tan probable es que una variable no tenga efecto en la variable dependiento. Puesto que el valor es de 0 en todas las variables, eso indica que la probabilidad de que cada variable no afecte la independiente es nula\n",
    "- En general, el modelo es bastante preciso, pues la `R-squared` es de 0.98, esto es, que captura el 98% de la variación de los datos.  \n",
    "- ¿Qué tan seguros podemos estar de estas conclusiones? `Prob (F-statistic)` nos indica qué tan probable es la hipótesis nula de que \"todos los coeficientes de la regresión son iguales a cero\". El valor es de 0, por lo que podemos estar casi 100% seguros de que, en conjunto, sí hay relación entre las variables independientes y la dependiente. \n",
    "\n",
    "_Más información sobre cómo interpretar estas métricas: https://medium.com/swlh/interpreting-linear-regression-through-statsmodels-summary-4796d359035a_"
   ]
  },
  {
   "cell_type": "markdown",
   "metadata": {},
   "source": [
    "## Bonus Challenge: Error Analysis"
   ]
  },
  {
   "cell_type": "markdown",
   "metadata": {},
   "source": [
    "I am suspicious about the last few parties I have thrown: it seems that the more people I invite the more people are unable to attend. To know if my hunch is supported by data, I have decided to do an analysis. I have collected my data in the table below, where X is the number of people I invited, and Y is the number of people who attended. \n",
    "\n",
    "|  X |  Y |\n",
    "|----|----|\n",
    "| 1  |  1 |\n",
    "| 3  |  2 |\n",
    "| 4  |  4 |\n",
    "| 6  |  4 |\n",
    "| 8  |  5 |\n",
    "| 9  |  7 |\n",
    "| 11 |  8 |\n",
    "| 14 |  13 |"
   ]
  },
  {
   "cell_type": "markdown",
   "metadata": {},
   "source": [
    "We want to know if the relationship modeled by the two random variables is linear or not, and therefore if it is appropriate to model it with a linear regression. \n",
    "First, build a dataframe with the data. "
   ]
  },
  {
   "cell_type": "code",
   "execution_count": 14,
   "metadata": {},
   "outputs": [
    {
     "data": {
      "text/html": [
       "<div>\n",
       "<style scoped>\n",
       "    .dataframe tbody tr th:only-of-type {\n",
       "        vertical-align: middle;\n",
       "    }\n",
       "\n",
       "    .dataframe tbody tr th {\n",
       "        vertical-align: top;\n",
       "    }\n",
       "\n",
       "    .dataframe thead th {\n",
       "        text-align: right;\n",
       "    }\n",
       "</style>\n",
       "<table border=\"1\" class=\"dataframe\">\n",
       "  <thead>\n",
       "    <tr style=\"text-align: right;\">\n",
       "      <th></th>\n",
       "      <th>invitados</th>\n",
       "      <th>asistentes</th>\n",
       "    </tr>\n",
       "  </thead>\n",
       "  <tbody>\n",
       "    <tr>\n",
       "      <th>0</th>\n",
       "      <td>1</td>\n",
       "      <td>1</td>\n",
       "    </tr>\n",
       "    <tr>\n",
       "      <th>1</th>\n",
       "      <td>3</td>\n",
       "      <td>2</td>\n",
       "    </tr>\n",
       "    <tr>\n",
       "      <th>2</th>\n",
       "      <td>4</td>\n",
       "      <td>4</td>\n",
       "    </tr>\n",
       "    <tr>\n",
       "      <th>3</th>\n",
       "      <td>6</td>\n",
       "      <td>4</td>\n",
       "    </tr>\n",
       "  </tbody>\n",
       "</table>\n",
       "</div>"
      ],
      "text/plain": [
       "   invitados  asistentes\n",
       "0          1           1\n",
       "1          3           2\n",
       "2          4           4\n",
       "3          6           4"
      ]
     },
     "execution_count": 14,
     "metadata": {},
     "output_type": "execute_result"
    }
   ],
   "source": [
    "# Contruyamos nuestro DataFrame\n",
    "fiesta = pd.DataFrame({'invitados': [1, 3, 4, 6, 8, 9, 11, 14], 'asistentes': [1, 2, 4, 4, 5, 7, 8, 13]})\n",
    "fiesta.head(4)"
   ]
  },
  {
   "cell_type": "markdown",
   "metadata": {},
   "source": [
    "Draw a dispersion diagram (scatter plot) for the data, and fit a regression line."
   ]
  },
  {
   "cell_type": "code",
   "execution_count": 42,
   "metadata": {},
   "outputs": [
    {
     "data": {
      "image/png": "[encoded data removed]",
      "text/plain": [
       "<Figure size 432x288 with 1 Axes>"
      ]
     },
     "metadata": {},
     "output_type": "display_data"
    }
   ],
   "source": [
    "# Grafiquemos con una gráfica de dispersión con línea de regresión. \n",
    "ax = sns.regplot(data=fiesta, x='invitados', y='asistentes')\n",
    "ax.set_title('Relación lineal entre invitados y asistentes', fontsize=13);"
   ]
  },
  {
   "cell_type": "markdown",
   "metadata": {},
   "source": [
    "What do you see? What does this plot tell you about the likely relationship between the variables? Print the results from your regression."
   ]
  },
  {
   "cell_type": "markdown",
   "metadata": {},
   "source": [
    "**Respuesta**\n",
    "\n",
    "- Parece que hay una correlación positiva entre los invitados y los asistentes."
   ]
  },
  {
   "cell_type": "code",
   "execution_count": 43,
   "metadata": {},
   "outputs": [
    {
     "name": "stdout",
     "output_type": "stream",
     "text": [
      "Slope:  0.848\n",
      "Intercept:  -0.439\n",
      "Correlación:  0.965\n",
      "R-squared:  0.932\n",
      "p-value:  0.0\n",
      "Desviación estándar:  0.094\n"
     ]
    }
   ],
   "source": [
    "# Obtengamos algunos atributos del modelo de regresión.\n",
    "fiesta_regresion = stats.linregress(x=fiesta.invitados, y=fiesta.asistentes)\n",
    "print('Slope: ', fiesta_regresion.slope.round(3))\n",
    "print('Intercept: ', fiesta_regresion.intercept.round(3))\n",
    "print('Correlación: ', f'{(fiesta_regresion.rvalue).round(3)}')\n",
    "print('R-squared: ', f'{(fiesta_regresion.rvalue**2).round(3)}') \n",
    "print('p-value: ', fiesta_regresion.pvalue.round(3)) \n",
    "print('Desviación estándar: ', fiesta_regresion.stderr.round(3))"
   ]
  },
  {
   "cell_type": "markdown",
   "metadata": {},
   "source": [
    "- Asimismo, nuestra r-cuadrada es alta (0.93), por lo que podemos concluir que la cantidad de invitados predice en un alto grado el número de asistentes.\n",
    "- OJO: el y-intercept es negativo, lo cual no hace sentido, pues no se puede tener asistentes negativos. En ese caso, no conviene usar esta métrica. "
   ]
  },
  {
   "cell_type": "markdown",
   "metadata": {},
   "source": [
    "Do you see any problematic points, or outliers, in your data? Remove these points and recalculate your regression. Print the new dispersion diagram with your new model and the results of your model. "
   ]
  },
  {
   "cell_type": "markdown",
   "metadata": {},
   "source": [
    "**Respuesta**\n",
    "\n",
    "- El valor (14, 13) puede ser considerado un outlier, pues está más alejado de lo que otros valores están entre sí. Excluyámoslo."
   ]
  },
  {
   "cell_type": "code",
   "execution_count": 38,
   "metadata": {},
   "outputs": [
    {
     "data": {
      "image/png": "[encoded data removed]",
      "text/plain": [
       "<Figure size 432x288 with 1 Axes>"
      ]
     },
     "metadata": {},
     "output_type": "display_data"
    }
   ],
   "source": [
    "# Eliminar valores outliers\n",
    "fiesta_filtrada = fiesta.loc[fiesta.invitados != 14, :]\n",
    "\n",
    "# Grafiquemos\n",
    "ax = sns.regplot(data=fiesta_filtrada, x='invitados', y='asistentes')\n",
    "ax.set_title('Relación lineal entre invitados y asistentes (sin outliers)', fontsize=13);"
   ]
  },
  {
   "cell_type": "code",
   "execution_count": 41,
   "metadata": {},
   "outputs": [
    {
     "name": "stdout",
     "output_type": "stream",
     "text": [
      "Slope:  0.684\n",
      "Intercept:  0.323\n",
      "Correlación:  0.971\n",
      "R-squared:  0.943\n",
      "p-value:  0.0\n",
      "Desviación estándar:  0.075\n"
     ]
    }
   ],
   "source": [
    "# Recalculemos los atributos de la regresión sin los outliers. \n",
    "fiesta_f_regresion = stats.linregress(x=fiesta_filtrada.invitados, y=fiesta_filtrada.asistentes)\n",
    "print('Slope: ', fiesta_f_regresion.slope.round(3))\n",
    "print('Intercept: ', fiesta_f_regresion.intercept.round(3))\n",
    "print('Correlación: ', f'{(fiesta_f_regresion.rvalue).round(3)}')\n",
    "print('R-squared: ', f'{(fiesta_f_regresion.rvalue**2).round(3)}') \n",
    "print('p-value: ', fiesta_f_regresion.pvalue.round(3)) \n",
    "print('Desviación estándar: ', fiesta_f_regresion.stderr.round(3))"
   ]
  },
  {
   "cell_type": "markdown",
   "metadata": {},
   "source": [
    "What changed? Based on the results of the two models and your graphs, what can you say about the form of the data with the problematic point and without it?"
   ]
  },
  {
   "cell_type": "markdown",
   "metadata": {},
   "source": [
    "**Respuesta**\n",
    "\n",
    "- Naturalmente, la correlación y la r-cuadrada (que es, de hecho, la correlación al cuadrado) son mayores una vez que eliminamos el outlier. Los outliers son, por definición, valores que se apartan del patrón general de los demás datos.\n",
    "- A su vez, la desviación estándar disminuyó, pues, al eliminar el dato más alejado de los demás, nuestros datos están menos alejados entre sí. \n",
    "- En este caso, *la relación entre los invitados y los asistentes parece que sí puede ser modelada con una relación linear*, pues la r-cuadrada es alta. No obstante, para verificar esta conclusión habría que hacer un análisis de los residuos, lo cual va más allá de los propósitos de este lab.  "
   ]
  }
 ],
 "metadata": {
  "kernelspec": {
   "display_name": "Python 3",
   "language": "python",
   "name": "python3"
  },
  "language_info": {
   "codemirror_mode": {
    "name": "ipython",
    "version": 3
   },
   "file_extension": ".py",
   "mimetype": "text/x-python",
   "name": "python",
   "nbconvert_exporter": "python",
   "pygments_lexer": "ipython3",
   "version": "3.8.5"
  }
 },
 "nbformat": 4,
 "nbformat_minor": 2
}
